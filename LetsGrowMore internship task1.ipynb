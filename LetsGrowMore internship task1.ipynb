{
 "cells": [
  {
   "cell_type": "markdown",
   "metadata": {},
   "source": [
    "# Stock Market Prediction And Forecasting Using Stacked LSTM\n",
    "\n",
    "Author:- Riya sahu\n",
    "TASK1\n"
   ]
  },
  {
   "cell_type": "markdown",
   "metadata": {},
   "source": []
  },
  {
   "cell_type": "code",
   "execution_count": 18,
   "metadata": {},
   "outputs": [],
   "source": [
    "#importing all the required libraries\n",
    "import numpy as np\n",
    "import matplotlib.pyplot as plt\n",
    "import pandas as pd\n",
    "from sklearn.model_selection import train_test_split\n",
    "from sklearn.linear_model import LinearRegression\n",
    "from sklearn import metrics\n",
    "from matplotlib import style\n",
    "plt.style.use('bmh')"
   ]
  },
  {
   "cell_type": "markdown",
   "metadata": {},
   "source": []
  },
  {
   "cell_type": "code",
   "execution_count": 23,
   "metadata": {},
   "outputs": [],
   "source": [
    "style.use('ggplot')"
   ]
  },
  {
   "cell_type": "code",
   "execution_count": 29,
   "metadata": {},
   "outputs": [],
   "source": [
    "#importing the dataset\n",
    "df=pd.read_csv('NSE-TATAGLOBAL.csv')"
   ]
  },
  {
   "cell_type": "code",
   "execution_count": 30,
   "metadata": {},
   "outputs": [
    {
     "data": {
      "text/html": [
       "<div>\n",
       "<style scoped>\n",
       "    .dataframe tbody tr th:only-of-type {\n",
       "        vertical-align: middle;\n",
       "    }\n",
       "\n",
       "    .dataframe tbody tr th {\n",
       "        vertical-align: top;\n",
       "    }\n",
       "\n",
       "    .dataframe thead th {\n",
       "        text-align: right;\n",
       "    }\n",
       "</style>\n",
       "<table border=\"1\" class=\"dataframe\">\n",
       "  <thead>\n",
       "    <tr style=\"text-align: right;\">\n",
       "      <th></th>\n",
       "      <th>Date</th>\n",
       "      <th>Open</th>\n",
       "      <th>High</th>\n",
       "      <th>Low</th>\n",
       "      <th>Last</th>\n",
       "      <th>Close</th>\n",
       "      <th>Total Trade Quantity</th>\n",
       "      <th>Turnover (Lacs)</th>\n",
       "    </tr>\n",
       "  </thead>\n",
       "  <tbody>\n",
       "    <tr>\n",
       "      <th>0</th>\n",
       "      <td>2018-09-28</td>\n",
       "      <td>234.05</td>\n",
       "      <td>235.95</td>\n",
       "      <td>230.20</td>\n",
       "      <td>233.50</td>\n",
       "      <td>233.75</td>\n",
       "      <td>3069914</td>\n",
       "      <td>7162.35</td>\n",
       "    </tr>\n",
       "    <tr>\n",
       "      <th>1</th>\n",
       "      <td>2018-09-27</td>\n",
       "      <td>234.55</td>\n",
       "      <td>236.80</td>\n",
       "      <td>231.10</td>\n",
       "      <td>233.80</td>\n",
       "      <td>233.25</td>\n",
       "      <td>5082859</td>\n",
       "      <td>11859.95</td>\n",
       "    </tr>\n",
       "    <tr>\n",
       "      <th>2</th>\n",
       "      <td>2018-09-26</td>\n",
       "      <td>240.00</td>\n",
       "      <td>240.00</td>\n",
       "      <td>232.50</td>\n",
       "      <td>235.00</td>\n",
       "      <td>234.25</td>\n",
       "      <td>2240909</td>\n",
       "      <td>5248.60</td>\n",
       "    </tr>\n",
       "    <tr>\n",
       "      <th>3</th>\n",
       "      <td>2018-09-25</td>\n",
       "      <td>233.30</td>\n",
       "      <td>236.75</td>\n",
       "      <td>232.00</td>\n",
       "      <td>236.25</td>\n",
       "      <td>236.10</td>\n",
       "      <td>2349368</td>\n",
       "      <td>5503.90</td>\n",
       "    </tr>\n",
       "    <tr>\n",
       "      <th>4</th>\n",
       "      <td>2018-09-24</td>\n",
       "      <td>233.55</td>\n",
       "      <td>239.20</td>\n",
       "      <td>230.75</td>\n",
       "      <td>234.00</td>\n",
       "      <td>233.30</td>\n",
       "      <td>3423509</td>\n",
       "      <td>7999.55</td>\n",
       "    </tr>\n",
       "    <tr>\n",
       "      <th>5</th>\n",
       "      <td>2018-09-21</td>\n",
       "      <td>235.00</td>\n",
       "      <td>237.00</td>\n",
       "      <td>227.95</td>\n",
       "      <td>233.75</td>\n",
       "      <td>234.60</td>\n",
       "      <td>5395319</td>\n",
       "      <td>12589.59</td>\n",
       "    </tr>\n",
       "    <tr>\n",
       "      <th>6</th>\n",
       "      <td>2018-09-19</td>\n",
       "      <td>235.95</td>\n",
       "      <td>237.20</td>\n",
       "      <td>233.45</td>\n",
       "      <td>234.60</td>\n",
       "      <td>234.90</td>\n",
       "      <td>1362058</td>\n",
       "      <td>3202.78</td>\n",
       "    </tr>\n",
       "    <tr>\n",
       "      <th>7</th>\n",
       "      <td>2018-09-18</td>\n",
       "      <td>237.90</td>\n",
       "      <td>239.25</td>\n",
       "      <td>233.50</td>\n",
       "      <td>235.50</td>\n",
       "      <td>235.05</td>\n",
       "      <td>2614794</td>\n",
       "      <td>6163.70</td>\n",
       "    </tr>\n",
       "    <tr>\n",
       "      <th>8</th>\n",
       "      <td>2018-09-17</td>\n",
       "      <td>233.15</td>\n",
       "      <td>238.00</td>\n",
       "      <td>230.25</td>\n",
       "      <td>236.40</td>\n",
       "      <td>236.60</td>\n",
       "      <td>3170894</td>\n",
       "      <td>7445.41</td>\n",
       "    </tr>\n",
       "    <tr>\n",
       "      <th>9</th>\n",
       "      <td>2018-09-14</td>\n",
       "      <td>223.45</td>\n",
       "      <td>236.70</td>\n",
       "      <td>223.30</td>\n",
       "      <td>234.00</td>\n",
       "      <td>233.95</td>\n",
       "      <td>6377909</td>\n",
       "      <td>14784.50</td>\n",
       "    </tr>\n",
       "    <tr>\n",
       "      <th>10</th>\n",
       "      <td>2018-09-12</td>\n",
       "      <td>216.35</td>\n",
       "      <td>223.70</td>\n",
       "      <td>212.65</td>\n",
       "      <td>221.65</td>\n",
       "      <td>222.65</td>\n",
       "      <td>4570939</td>\n",
       "      <td>10002.01</td>\n",
       "    </tr>\n",
       "    <tr>\n",
       "      <th>11</th>\n",
       "      <td>2018-09-11</td>\n",
       "      <td>222.50</td>\n",
       "      <td>225.40</td>\n",
       "      <td>214.85</td>\n",
       "      <td>216.35</td>\n",
       "      <td>216.00</td>\n",
       "      <td>3508990</td>\n",
       "      <td>7735.81</td>\n",
       "    </tr>\n",
       "    <tr>\n",
       "      <th>12</th>\n",
       "      <td>2018-09-10</td>\n",
       "      <td>222.50</td>\n",
       "      <td>235.15</td>\n",
       "      <td>220.65</td>\n",
       "      <td>221.05</td>\n",
       "      <td>222.00</td>\n",
       "      <td>7514106</td>\n",
       "      <td>17130.29</td>\n",
       "    </tr>\n",
       "    <tr>\n",
       "      <th>13</th>\n",
       "      <td>2018-09-07</td>\n",
       "      <td>221.00</td>\n",
       "      <td>224.50</td>\n",
       "      <td>219.10</td>\n",
       "      <td>223.15</td>\n",
       "      <td>222.95</td>\n",
       "      <td>1232507</td>\n",
       "      <td>2742.84</td>\n",
       "    </tr>\n",
       "    <tr>\n",
       "      <th>14</th>\n",
       "      <td>2018-09-06</td>\n",
       "      <td>224.00</td>\n",
       "      <td>225.00</td>\n",
       "      <td>218.20</td>\n",
       "      <td>220.95</td>\n",
       "      <td>221.05</td>\n",
       "      <td>1738824</td>\n",
       "      <td>3856.72</td>\n",
       "    </tr>\n",
       "    <tr>\n",
       "      <th>15</th>\n",
       "      <td>2018-09-05</td>\n",
       "      <td>222.00</td>\n",
       "      <td>224.60</td>\n",
       "      <td>215.20</td>\n",
       "      <td>222.10</td>\n",
       "      <td>222.40</td>\n",
       "      <td>3023097</td>\n",
       "      <td>6674.93</td>\n",
       "    </tr>\n",
       "    <tr>\n",
       "      <th>16</th>\n",
       "      <td>2018-09-04</td>\n",
       "      <td>238.20</td>\n",
       "      <td>238.20</td>\n",
       "      <td>222.60</td>\n",
       "      <td>223.45</td>\n",
       "      <td>223.70</td>\n",
       "      <td>3554859</td>\n",
       "      <td>8163.82</td>\n",
       "    </tr>\n",
       "    <tr>\n",
       "      <th>17</th>\n",
       "      <td>2018-09-03</td>\n",
       "      <td>236.00</td>\n",
       "      <td>243.55</td>\n",
       "      <td>235.05</td>\n",
       "      <td>236.85</td>\n",
       "      <td>236.70</td>\n",
       "      <td>5242852</td>\n",
       "      <td>12538.39</td>\n",
       "    </tr>\n",
       "    <tr>\n",
       "      <th>18</th>\n",
       "      <td>2018-08-31</td>\n",
       "      <td>237.00</td>\n",
       "      <td>239.75</td>\n",
       "      <td>232.95</td>\n",
       "      <td>234.65</td>\n",
       "      <td>234.30</td>\n",
       "      <td>3353833</td>\n",
       "      <td>7913.21</td>\n",
       "    </tr>\n",
       "    <tr>\n",
       "      <th>19</th>\n",
       "      <td>2018-08-30</td>\n",
       "      <td>235.35</td>\n",
       "      <td>237.30</td>\n",
       "      <td>232.10</td>\n",
       "      <td>237.30</td>\n",
       "      <td>236.00</td>\n",
       "      <td>1921327</td>\n",
       "      <td>4516.57</td>\n",
       "    </tr>\n",
       "    <tr>\n",
       "      <th>20</th>\n",
       "      <td>2018-08-29</td>\n",
       "      <td>233.85</td>\n",
       "      <td>237.70</td>\n",
       "      <td>232.70</td>\n",
       "      <td>234.20</td>\n",
       "      <td>234.55</td>\n",
       "      <td>1394661</td>\n",
       "      <td>3280.33</td>\n",
       "    </tr>\n",
       "    <tr>\n",
       "      <th>21</th>\n",
       "      <td>2018-08-28</td>\n",
       "      <td>237.00</td>\n",
       "      <td>239.30</td>\n",
       "      <td>231.30</td>\n",
       "      <td>232.90</td>\n",
       "      <td>233.35</td>\n",
       "      <td>2374782</td>\n",
       "      <td>5571.77</td>\n",
       "    </tr>\n",
       "    <tr>\n",
       "      <th>22</th>\n",
       "      <td>2018-08-27</td>\n",
       "      <td>231.80</td>\n",
       "      <td>239.35</td>\n",
       "      <td>231.05</td>\n",
       "      <td>236.80</td>\n",
       "      <td>237.05</td>\n",
       "      <td>1990020</td>\n",
       "      <td>4689.94</td>\n",
       "    </tr>\n",
       "    <tr>\n",
       "      <th>23</th>\n",
       "      <td>2018-08-24</td>\n",
       "      <td>234.50</td>\n",
       "      <td>237.20</td>\n",
       "      <td>230.20</td>\n",
       "      <td>231.50</td>\n",
       "      <td>231.00</td>\n",
       "      <td>1838417</td>\n",
       "      <td>4289.35</td>\n",
       "    </tr>\n",
       "    <tr>\n",
       "      <th>24</th>\n",
       "      <td>2018-08-23</td>\n",
       "      <td>240.30</td>\n",
       "      <td>240.60</td>\n",
       "      <td>233.10</td>\n",
       "      <td>235.50</td>\n",
       "      <td>235.45</td>\n",
       "      <td>1553953</td>\n",
       "      <td>3662.36</td>\n",
       "    </tr>\n",
       "  </tbody>\n",
       "</table>\n",
       "</div>"
      ],
      "text/plain": [
       "          Date    Open    High     Low    Last   Close  Total Trade Quantity  \\\n",
       "0   2018-09-28  234.05  235.95  230.20  233.50  233.75               3069914   \n",
       "1   2018-09-27  234.55  236.80  231.10  233.80  233.25               5082859   \n",
       "2   2018-09-26  240.00  240.00  232.50  235.00  234.25               2240909   \n",
       "3   2018-09-25  233.30  236.75  232.00  236.25  236.10               2349368   \n",
       "4   2018-09-24  233.55  239.20  230.75  234.00  233.30               3423509   \n",
       "5   2018-09-21  235.00  237.00  227.95  233.75  234.60               5395319   \n",
       "6   2018-09-19  235.95  237.20  233.45  234.60  234.90               1362058   \n",
       "7   2018-09-18  237.90  239.25  233.50  235.50  235.05               2614794   \n",
       "8   2018-09-17  233.15  238.00  230.25  236.40  236.60               3170894   \n",
       "9   2018-09-14  223.45  236.70  223.30  234.00  233.95               6377909   \n",
       "10  2018-09-12  216.35  223.70  212.65  221.65  222.65               4570939   \n",
       "11  2018-09-11  222.50  225.40  214.85  216.35  216.00               3508990   \n",
       "12  2018-09-10  222.50  235.15  220.65  221.05  222.00               7514106   \n",
       "13  2018-09-07  221.00  224.50  219.10  223.15  222.95               1232507   \n",
       "14  2018-09-06  224.00  225.00  218.20  220.95  221.05               1738824   \n",
       "15  2018-09-05  222.00  224.60  215.20  222.10  222.40               3023097   \n",
       "16  2018-09-04  238.20  238.20  222.60  223.45  223.70               3554859   \n",
       "17  2018-09-03  236.00  243.55  235.05  236.85  236.70               5242852   \n",
       "18  2018-08-31  237.00  239.75  232.95  234.65  234.30               3353833   \n",
       "19  2018-08-30  235.35  237.30  232.10  237.30  236.00               1921327   \n",
       "20  2018-08-29  233.85  237.70  232.70  234.20  234.55               1394661   \n",
       "21  2018-08-28  237.00  239.30  231.30  232.90  233.35               2374782   \n",
       "22  2018-08-27  231.80  239.35  231.05  236.80  237.05               1990020   \n",
       "23  2018-08-24  234.50  237.20  230.20  231.50  231.00               1838417   \n",
       "24  2018-08-23  240.30  240.60  233.10  235.50  235.45               1553953   \n",
       "\n",
       "    Turnover (Lacs)  \n",
       "0           7162.35  \n",
       "1          11859.95  \n",
       "2           5248.60  \n",
       "3           5503.90  \n",
       "4           7999.55  \n",
       "5          12589.59  \n",
       "6           3202.78  \n",
       "7           6163.70  \n",
       "8           7445.41  \n",
       "9          14784.50  \n",
       "10         10002.01  \n",
       "11          7735.81  \n",
       "12         17130.29  \n",
       "13          2742.84  \n",
       "14          3856.72  \n",
       "15          6674.93  \n",
       "16          8163.82  \n",
       "17         12538.39  \n",
       "18          7913.21  \n",
       "19          4516.57  \n",
       "20          3280.33  \n",
       "21          5571.77  \n",
       "22          4689.94  \n",
       "23          4289.35  \n",
       "24          3662.36  "
      ]
     },
     "execution_count": 30,
     "metadata": {},
     "output_type": "execute_result"
    }
   ],
   "source": [
    "#analysing the dataset\n",
    "df.head(25)"
   ]
  },
  {
   "cell_type": "code",
   "execution_count": 32,
   "metadata": {},
   "outputs": [
    {
     "data": {
      "text/html": [
       "<div>\n",
       "<style scoped>\n",
       "    .dataframe tbody tr th:only-of-type {\n",
       "        vertical-align: middle;\n",
       "    }\n",
       "\n",
       "    .dataframe tbody tr th {\n",
       "        vertical-align: top;\n",
       "    }\n",
       "\n",
       "    .dataframe thead th {\n",
       "        text-align: right;\n",
       "    }\n",
       "</style>\n",
       "<table border=\"1\" class=\"dataframe\">\n",
       "  <thead>\n",
       "    <tr style=\"text-align: right;\">\n",
       "      <th></th>\n",
       "      <th>Date</th>\n",
       "      <th>Open</th>\n",
       "      <th>High</th>\n",
       "      <th>Low</th>\n",
       "      <th>Last</th>\n",
       "      <th>Close</th>\n",
       "      <th>Total Trade Quantity</th>\n",
       "      <th>Turnover (Lacs)</th>\n",
       "    </tr>\n",
       "  </thead>\n",
       "  <tbody>\n",
       "    <tr>\n",
       "      <th>2030</th>\n",
       "      <td>2010-07-27</td>\n",
       "      <td>117.6</td>\n",
       "      <td>119.50</td>\n",
       "      <td>112.00</td>\n",
       "      <td>118.80</td>\n",
       "      <td>118.65</td>\n",
       "      <td>586100</td>\n",
       "      <td>694.98</td>\n",
       "    </tr>\n",
       "    <tr>\n",
       "      <th>2031</th>\n",
       "      <td>2010-07-26</td>\n",
       "      <td>120.1</td>\n",
       "      <td>121.00</td>\n",
       "      <td>117.10</td>\n",
       "      <td>117.10</td>\n",
       "      <td>117.60</td>\n",
       "      <td>658440</td>\n",
       "      <td>780.01</td>\n",
       "    </tr>\n",
       "    <tr>\n",
       "      <th>2032</th>\n",
       "      <td>2010-07-23</td>\n",
       "      <td>121.8</td>\n",
       "      <td>121.95</td>\n",
       "      <td>120.25</td>\n",
       "      <td>120.35</td>\n",
       "      <td>120.65</td>\n",
       "      <td>281312</td>\n",
       "      <td>340.31</td>\n",
       "    </tr>\n",
       "    <tr>\n",
       "      <th>2033</th>\n",
       "      <td>2010-07-22</td>\n",
       "      <td>120.3</td>\n",
       "      <td>122.00</td>\n",
       "      <td>120.25</td>\n",
       "      <td>120.75</td>\n",
       "      <td>120.90</td>\n",
       "      <td>293312</td>\n",
       "      <td>355.17</td>\n",
       "    </tr>\n",
       "    <tr>\n",
       "      <th>2034</th>\n",
       "      <td>2010-07-21</td>\n",
       "      <td>122.1</td>\n",
       "      <td>123.00</td>\n",
       "      <td>121.05</td>\n",
       "      <td>121.10</td>\n",
       "      <td>121.55</td>\n",
       "      <td>658666</td>\n",
       "      <td>803.56</td>\n",
       "    </tr>\n",
       "  </tbody>\n",
       "</table>\n",
       "</div>"
      ],
      "text/plain": [
       "            Date   Open    High     Low    Last   Close  Total Trade Quantity  \\\n",
       "2030  2010-07-27  117.6  119.50  112.00  118.80  118.65                586100   \n",
       "2031  2010-07-26  120.1  121.00  117.10  117.10  117.60                658440   \n",
       "2032  2010-07-23  121.8  121.95  120.25  120.35  120.65                281312   \n",
       "2033  2010-07-22  120.3  122.00  120.25  120.75  120.90                293312   \n",
       "2034  2010-07-21  122.1  123.00  121.05  121.10  121.55                658666   \n",
       "\n",
       "      Turnover (Lacs)  \n",
       "2030           694.98  \n",
       "2031           780.01  \n",
       "2032           340.31  \n",
       "2033           355.17  \n",
       "2034           803.56  "
      ]
     },
     "execution_count": 32,
     "metadata": {},
     "output_type": "execute_result"
    }
   ],
   "source": [
    "df.tail(5)"
   ]
  },
  {
   "cell_type": "code",
   "execution_count": 33,
   "metadata": {},
   "outputs": [
    {
     "data": {
      "text/plain": [
       "Date                    False\n",
       "Open                    False\n",
       "High                    False\n",
       "Low                     False\n",
       "Last                    False\n",
       "Close                   False\n",
       "Total Trade Quantity    False\n",
       "Turnover (Lacs)         False\n",
       "dtype: bool"
      ]
     },
     "execution_count": 33,
     "metadata": {},
     "output_type": "execute_result"
    }
   ],
   "source": [
    "df.isna().any()"
   ]
  },
  {
   "cell_type": "code",
   "execution_count": 34,
   "metadata": {},
   "outputs": [
    {
     "name": "stdout",
     "output_type": "stream",
     "text": [
      "<class 'pandas.core.frame.DataFrame'>\n",
      "RangeIndex: 2035 entries, 0 to 2034\n",
      "Data columns (total 8 columns):\n",
      " #   Column                Non-Null Count  Dtype  \n",
      "---  ------                --------------  -----  \n",
      " 0   Date                  2035 non-null   object \n",
      " 1   Open                  2035 non-null   float64\n",
      " 2   High                  2035 non-null   float64\n",
      " 3   Low                   2035 non-null   float64\n",
      " 4   Last                  2035 non-null   float64\n",
      " 5   Close                 2035 non-null   float64\n",
      " 6   Total Trade Quantity  2035 non-null   int64  \n",
      " 7   Turnover (Lacs)       2035 non-null   float64\n",
      "dtypes: float64(6), int64(1), object(1)\n",
      "memory usage: 127.3+ KB\n"
     ]
    }
   ],
   "source": [
    "#checking whether there are any null values or not\n",
    "df.info()"
   ]
  },
  {
   "cell_type": "code",
   "execution_count": 36,
   "metadata": {},
   "outputs": [],
   "source": [
    "#creating two variables for actual and prediction values\n",
    "x = df[['High','Open','Low','Last']].values\n",
    "y = df['Close'].values"
   ]
  },
  {
   "cell_type": "code",
   "execution_count": 39,
   "metadata": {},
   "outputs": [],
   "source": [
    "x_train,x_test,y_train,y_test = train_test_split(x,y,test_size=0.2,random_state=0)"
   ]
  },
  {
   "cell_type": "code",
   "execution_count": 40,
   "metadata": {},
   "outputs": [
    {
     "data": {
      "text/plain": [
       "LinearRegression(copy_X=True, fit_intercept=True, n_jobs=None, normalize=False)"
      ]
     },
     "execution_count": 40,
     "metadata": {},
     "output_type": "execute_result"
    }
   ],
   "source": [
    "regressor = LinearRegression()\n",
    "regressor.fit(x_train,y_train)"
   ]
  },
  {
   "cell_type": "code",
   "execution_count": 41,
   "metadata": {},
   "outputs": [
    {
     "data": {
      "text/html": [
       "<div>\n",
       "<style scoped>\n",
       "    .dataframe tbody tr th:only-of-type {\n",
       "        vertical-align: middle;\n",
       "    }\n",
       "\n",
       "    .dataframe tbody tr th {\n",
       "        vertical-align: top;\n",
       "    }\n",
       "\n",
       "    .dataframe thead th {\n",
       "        text-align: right;\n",
       "    }\n",
       "</style>\n",
       "<table border=\"1\" class=\"dataframe\">\n",
       "  <thead>\n",
       "    <tr style=\"text-align: right;\">\n",
       "      <th></th>\n",
       "      <th>Actual</th>\n",
       "      <th>Predicted</th>\n",
       "    </tr>\n",
       "  </thead>\n",
       "  <tbody>\n",
       "    <tr>\n",
       "      <th>0</th>\n",
       "      <td>134.95</td>\n",
       "      <td>135.920574</td>\n",
       "    </tr>\n",
       "    <tr>\n",
       "      <th>1</th>\n",
       "      <td>145.35</td>\n",
       "      <td>145.837051</td>\n",
       "    </tr>\n",
       "    <tr>\n",
       "      <th>2</th>\n",
       "      <td>157.10</td>\n",
       "      <td>157.265928</td>\n",
       "    </tr>\n",
       "    <tr>\n",
       "      <th>3</th>\n",
       "      <td>152.15</td>\n",
       "      <td>152.014904</td>\n",
       "    </tr>\n",
       "    <tr>\n",
       "      <th>4</th>\n",
       "      <td>112.05</td>\n",
       "      <td>112.126555</td>\n",
       "    </tr>\n",
       "    <tr>\n",
       "      <th>5</th>\n",
       "      <td>156.95</td>\n",
       "      <td>157.539780</td>\n",
       "    </tr>\n",
       "    <tr>\n",
       "      <th>6</th>\n",
       "      <td>144.25</td>\n",
       "      <td>144.523201</td>\n",
       "    </tr>\n",
       "    <tr>\n",
       "      <th>7</th>\n",
       "      <td>163.60</td>\n",
       "      <td>163.600226</td>\n",
       "    </tr>\n",
       "    <tr>\n",
       "      <th>8</th>\n",
       "      <td>109.45</td>\n",
       "      <td>109.379148</td>\n",
       "    </tr>\n",
       "    <tr>\n",
       "      <th>9</th>\n",
       "      <td>141.00</td>\n",
       "      <td>140.914634</td>\n",
       "    </tr>\n",
       "    <tr>\n",
       "      <th>10</th>\n",
       "      <td>141.05</td>\n",
       "      <td>140.879696</td>\n",
       "    </tr>\n",
       "    <tr>\n",
       "      <th>11</th>\n",
       "      <td>129.80</td>\n",
       "      <td>130.719075</td>\n",
       "    </tr>\n",
       "    <tr>\n",
       "      <th>12</th>\n",
       "      <td>153.10</td>\n",
       "      <td>152.843806</td>\n",
       "    </tr>\n",
       "    <tr>\n",
       "      <th>13</th>\n",
       "      <td>144.70</td>\n",
       "      <td>144.946510</td>\n",
       "    </tr>\n",
       "    <tr>\n",
       "      <th>14</th>\n",
       "      <td>148.90</td>\n",
       "      <td>148.793925</td>\n",
       "    </tr>\n",
       "    <tr>\n",
       "      <th>15</th>\n",
       "      <td>278.25</td>\n",
       "      <td>278.436285</td>\n",
       "    </tr>\n",
       "    <tr>\n",
       "      <th>16</th>\n",
       "      <td>131.90</td>\n",
       "      <td>131.909019</td>\n",
       "    </tr>\n",
       "    <tr>\n",
       "      <th>17</th>\n",
       "      <td>155.55</td>\n",
       "      <td>155.729842</td>\n",
       "    </tr>\n",
       "    <tr>\n",
       "      <th>18</th>\n",
       "      <td>147.45</td>\n",
       "      <td>146.943213</td>\n",
       "    </tr>\n",
       "    <tr>\n",
       "      <th>19</th>\n",
       "      <td>96.40</td>\n",
       "      <td>97.007182</td>\n",
       "    </tr>\n",
       "    <tr>\n",
       "      <th>20</th>\n",
       "      <td>142.05</td>\n",
       "      <td>142.478342</td>\n",
       "    </tr>\n",
       "    <tr>\n",
       "      <th>21</th>\n",
       "      <td>145.40</td>\n",
       "      <td>144.870009</td>\n",
       "    </tr>\n",
       "    <tr>\n",
       "      <th>22</th>\n",
       "      <td>88.10</td>\n",
       "      <td>88.168521</td>\n",
       "    </tr>\n",
       "    <tr>\n",
       "      <th>23</th>\n",
       "      <td>167.60</td>\n",
       "      <td>167.724825</td>\n",
       "    </tr>\n",
       "    <tr>\n",
       "      <th>24</th>\n",
       "      <td>125.10</td>\n",
       "      <td>125.103161</td>\n",
       "    </tr>\n",
       "  </tbody>\n",
       "</table>\n",
       "</div>"
      ],
      "text/plain": [
       "    Actual   Predicted\n",
       "0   134.95  135.920574\n",
       "1   145.35  145.837051\n",
       "2   157.10  157.265928\n",
       "3   152.15  152.014904\n",
       "4   112.05  112.126555\n",
       "5   156.95  157.539780\n",
       "6   144.25  144.523201\n",
       "7   163.60  163.600226\n",
       "8   109.45  109.379148\n",
       "9   141.00  140.914634\n",
       "10  141.05  140.879696\n",
       "11  129.80  130.719075\n",
       "12  153.10  152.843806\n",
       "13  144.70  144.946510\n",
       "14  148.90  148.793925\n",
       "15  278.25  278.436285\n",
       "16  131.90  131.909019\n",
       "17  155.55  155.729842\n",
       "18  147.45  146.943213\n",
       "19   96.40   97.007182\n",
       "20  142.05  142.478342\n",
       "21  145.40  144.870009\n",
       "22   88.10   88.168521\n",
       "23  167.60  167.724825\n",
       "24  125.10  125.103161"
      ]
     },
     "execution_count": 41,
     "metadata": {},
     "output_type": "execute_result"
    }
   ],
   "source": [
    "y_pred = regressor.predict(x_test)\n",
    "result = pd.DataFrame({'Actual':y_test.flatten(),'Predicted':y_pred.flatten()})\n",
    "result.head(25)"
   ]
  },
  {
   "cell_type": "code",
   "execution_count": 42,
   "metadata": {},
   "outputs": [],
   "source": [
    "import math"
   ]
  },
  {
   "cell_type": "code",
   "execution_count": 43,
   "metadata": {},
   "outputs": [],
   "source": [
    "graph =result.head(20)"
   ]
  },
  {
   "cell_type": "code",
   "execution_count": 44,
   "metadata": {},
   "outputs": [
    {
     "data": {
      "text/plain": [
       "<AxesSubplot:>"
      ]
     },
     "execution_count": 44,
     "metadata": {},
     "output_type": "execute_result"
    },
    {
     "data": {
      "image/png": "[encoded data removed]",
      "text/plain": [
       "<Figure size 432x288 with 1 Axes>"
      ]
     },
     "metadata": {},
     "output_type": "display_data"
    }
   ],
   "source": [
    "graph.plot(kind='bar')"
   ]
  },
  {
   "cell_type": "code",
   "execution_count": 45,
   "metadata": {},
   "outputs": [
    {
     "data": {
      "text/plain": [
       "(2035, 8)"
      ]
     },
     "execution_count": 45,
     "metadata": {},
     "output_type": "execute_result"
    }
   ],
   "source": [
    "df.shape #get the number of trading days"
   ]
  },
  {
   "cell_type": "markdown",
   "metadata": {},
   "source": []
  },
  {
   "cell_type": "code",
   "execution_count": 46,
   "metadata": {},
   "outputs": [
    {
     "data": {
      "image/png": "[encoded data removed]",
      "text/plain": [
       "<Figure size 1152x576 with 1 Axes>"
      ]
     },
     "metadata": {},
     "output_type": "display_data"
    }
   ],
   "source": [
    "#visualize the close price data\n",
    "plt.figure(figsize=(16,8))\n",
    "plt.title('Tesla')\n",
    "plt.xlabel('days')\n",
    "plt.ylabel('Close Price usd($)')\n",
    "plt.plot(df['Close'])\n",
    "plt.show()"
   ]
  },
  {
   "cell_type": "code",
   "execution_count": 47,
   "metadata": {},
   "outputs": [
    {
     "data": {
      "text/html": [
       "<div>\n",
       "<style scoped>\n",
       "    .dataframe tbody tr th:only-of-type {\n",
       "        vertical-align: middle;\n",
       "    }\n",
       "\n",
       "    .dataframe tbody tr th {\n",
       "        vertical-align: top;\n",
       "    }\n",
       "\n",
       "    .dataframe thead th {\n",
       "        text-align: right;\n",
       "    }\n",
       "</style>\n",
       "<table border=\"1\" class=\"dataframe\">\n",
       "  <thead>\n",
       "    <tr style=\"text-align: right;\">\n",
       "      <th></th>\n",
       "      <th>Close</th>\n",
       "    </tr>\n",
       "  </thead>\n",
       "  <tbody>\n",
       "    <tr>\n",
       "      <th>0</th>\n",
       "      <td>233.75</td>\n",
       "    </tr>\n",
       "    <tr>\n",
       "      <th>1</th>\n",
       "      <td>233.25</td>\n",
       "    </tr>\n",
       "    <tr>\n",
       "      <th>2</th>\n",
       "      <td>234.25</td>\n",
       "    </tr>\n",
       "    <tr>\n",
       "      <th>3</th>\n",
       "      <td>236.10</td>\n",
       "    </tr>\n",
       "  </tbody>\n",
       "</table>\n",
       "</div>"
      ],
      "text/plain": [
       "    Close\n",
       "0  233.75\n",
       "1  233.25\n",
       "2  234.25\n",
       "3  236.10"
      ]
     },
     "execution_count": 47,
     "metadata": {},
     "output_type": "execute_result"
    }
   ],
   "source": [
    "#get the close price\n",
    "df=df[['Close']]\n",
    "df.head(4)"
   ]
  },
  {
   "cell_type": "code",
   "execution_count": 48,
   "metadata": {},
   "outputs": [
    {
     "data": {
      "text/html": [
       "<div>\n",
       "<style scoped>\n",
       "    .dataframe tbody tr th:only-of-type {\n",
       "        vertical-align: middle;\n",
       "    }\n",
       "\n",
       "    .dataframe tbody tr th {\n",
       "        vertical-align: top;\n",
       "    }\n",
       "\n",
       "    .dataframe thead th {\n",
       "        text-align: right;\n",
       "    }\n",
       "</style>\n",
       "<table border=\"1\" class=\"dataframe\">\n",
       "  <thead>\n",
       "    <tr style=\"text-align: right;\">\n",
       "      <th></th>\n",
       "      <th>Close</th>\n",
       "      <th>Prediction</th>\n",
       "    </tr>\n",
       "  </thead>\n",
       "  <tbody>\n",
       "    <tr>\n",
       "      <th>2031</th>\n",
       "      <td>117.60</td>\n",
       "      <td>NaN</td>\n",
       "    </tr>\n",
       "    <tr>\n",
       "      <th>2032</th>\n",
       "      <td>120.65</td>\n",
       "      <td>NaN</td>\n",
       "    </tr>\n",
       "    <tr>\n",
       "      <th>2033</th>\n",
       "      <td>120.90</td>\n",
       "      <td>NaN</td>\n",
       "    </tr>\n",
       "    <tr>\n",
       "      <th>2034</th>\n",
       "      <td>121.55</td>\n",
       "      <td>NaN</td>\n",
       "    </tr>\n",
       "  </tbody>\n",
       "</table>\n",
       "</div>"
      ],
      "text/plain": [
       "       Close  Prediction\n",
       "2031  117.60         NaN\n",
       "2032  120.65         NaN\n",
       "2033  120.90         NaN\n",
       "2034  121.55         NaN"
      ]
     },
     "execution_count": 48,
     "metadata": {},
     "output_type": "execute_result"
    }
   ],
   "source": [
    "#create a variable to predict 'x' days out into the future\n",
    "future_days=25\n",
    "df['Prediction']=df[['Close']].shift(-future_days)\n",
    "df.tail(4)"
   ]
  },
  {
   "cell_type": "code",
   "execution_count": 49,
   "metadata": {},
   "outputs": [
    {
     "name": "stdout",
     "output_type": "stream",
     "text": [
      "[[233.75]\n",
      " [233.25]\n",
      " [234.25]\n",
      " ...\n",
      " [117.75]\n",
      " [118.15]\n",
      " [117.  ]]\n"
     ]
    },
    {
     "name": "stderr",
     "output_type": "stream",
     "text": [
      "/home/riya/anaconda3/lib/python3.7/site-packages/ipykernel_launcher.py:2: FutureWarning: In a future version of pandas all arguments of DataFrame.drop except for the argument 'labels' will be keyword-only\n",
      "  \n"
     ]
    }
   ],
   "source": [
    "#create the feature data set (x) and convert it to a numpy array and remove the last 'x' rows/days\n",
    "X=np.array(df.drop(['Prediction'],1))[:-future_days]\n",
    "print(X)"
   ]
  },
  {
   "cell_type": "code",
   "execution_count": 50,
   "metadata": {},
   "outputs": [
    {
     "name": "stdout",
     "output_type": "stream",
     "text": [
      "[240.55 245.15 243.   ... 120.65 120.9  121.55]\n"
     ]
    }
   ],
   "source": [
    "#create the target data set (y) and convert it to a numpy array and get all the target values except the last 'x'rows/days\n",
    "y=np.array(df['Prediction'])[:-future_days]\n",
    "print(y)"
   ]
  },
  {
   "cell_type": "code",
   "execution_count": 51,
   "metadata": {},
   "outputs": [],
   "source": [
    "#split the data into 80% training and 20% testing\n",
    "x_train, x_test, y_train, y_test=train_test_split(X,y, test_size=0.20)"
   ]
  },
  {
   "cell_type": "code",
   "execution_count": 53,
   "metadata": {},
   "outputs": [
    {
     "name": "stderr",
     "output_type": "stream",
     "text": [
      "/home/riya/anaconda3/lib/python3.7/site-packages/ipykernel_launcher.py:2: FutureWarning: In a future version of pandas all arguments of DataFrame.drop except for the argument 'labels' will be keyword-only\n",
      "  \n"
     ]
    },
    {
     "data": {
      "text/plain": [
       "array([[121.5 ],\n",
       "       [122.85],\n",
       "       [123.6 ],\n",
       "       [125.1 ],\n",
       "       [123.55],\n",
       "       [120.8 ],\n",
       "       [122.5 ],\n",
       "       [124.55],\n",
       "       [122.65],\n",
       "       [122.15],\n",
       "       [123.25],\n",
       "       [123.9 ],\n",
       "       [125.95],\n",
       "       [127.8 ],\n",
       "       [127.25],\n",
       "       [127.7 ],\n",
       "       [123.15],\n",
       "       [122.15],\n",
       "       [122.4 ],\n",
       "       [123.  ],\n",
       "       [120.5 ],\n",
       "       [117.6 ],\n",
       "       [117.75],\n",
       "       [118.15],\n",
       "       [117.  ]])"
      ]
     },
     "execution_count": 53,
     "metadata": {},
     "output_type": "execute_result"
    }
   ],
   "source": [
    "#get the last 'x' rows of the feature data set\n",
    "x_future=df.drop(['Prediction'],1)[:-future_days]\n",
    "x_future=x_future.tail(future_days)\n",
    "x_future=np.array(x_future)\n",
    "x_future"
   ]
  },
  {
   "cell_type": "code",
   "execution_count": 59,
   "metadata": {},
   "outputs": [],
   "source": [
    "#create the modules\n",
    "#create the decision tree regression prediction\n",
    "lr = LinearRegression().fit(x_train, y_train)"
   ]
  },
  {
   "cell_type": "code",
   "execution_count": 60,
   "metadata": {},
   "outputs": [
    {
     "name": "stdout",
     "output_type": "stream",
     "text": [
      "[122.03072498 123.28687654 123.98473852 125.38046248 123.93821439\n",
      " 121.37938714 122.96120762 124.86869703 123.10078001 122.6355387\n",
      " 123.6590696  124.26388331 126.17137272 127.8927656  127.38100015\n",
      " 127.79971733 123.56602133 122.6355387  122.86815936 123.42644894\n",
      " 121.10024234 118.4018427  118.54141509 118.91360815 117.84355311]\n"
     ]
    }
   ],
   "source": [
    "#show the models linear regression prediction\n",
    "lr_prediction = lr.predict(x_future)\n",
    "print(lr_prediction)"
   ]
  },
  {
   "cell_type": "code",
   "execution_count": 61,
   "metadata": {},
   "outputs": [
    {
     "name": "stderr",
     "output_type": "stream",
     "text": [
      "/home/riya/anaconda3/lib/python3.7/site-packages/ipykernel_launcher.py:5: SettingWithCopyWarning: \n",
      "A value is trying to be set on a copy of a slice from a DataFrame.\n",
      "Try using .loc[row_indexer,col_indexer] = value instead\n",
      "\n",
      "See the caveats in the documentation: https://pandas.pydata.org/pandas-docs/stable/user_guide/indexing.html#returning-a-view-versus-a-copy\n",
      "  \"\"\"\n"
     ]
    },
    {
     "data": {
      "image/png": "[encoded data removed]",
      "text/plain": [
       "<Figure size 1152x576 with 1 Axes>"
      ]
     },
     "metadata": {},
     "output_type": "display_data"
    }
   ],
   "source": [
    "#visualize the data\n",
    "prediction = lr_prediction\n",
    "\n",
    "valid=df[x.shape[0]:]\n",
    "valid['Prediction']= prediction\n",
    "plt.figure(figsize=(16,8))\n",
    "plt.title('Model')\n",
    "plt.xlabel('Days')\n",
    "plt.ylabel('Close price USD ($)')\n",
    "plt.plot(df['Close'])\n",
    "plt.plot(df[['Close', 'Prediction']])\n",
    "plt.legend(['Orig' , 'Val' , 'Pred'])\n",
    "plt.show()"
   ]
  },
  {
   "cell_type": "code",
   "execution_count": null,
   "metadata": {},
   "outputs": [],
   "source": []
  }
 ],
 "metadata": {
  "kernelspec": {
   "display_name": "Python 3",
   "language": "python",
   "name": "python3"
  },
  "language_info": {
   "codemirror_mode": {
    "name": "ipython",
    "version": 3
   },
   "file_extension": ".py",
   "mimetype": "text/x-python",
   "name": "python",
   "nbconvert_exporter": "python",
   "pygments_lexer": "ipython3",
   "version": "3.7.6"
  }
 },
 "nbformat": 4,
 "nbformat_minor": 4
}
